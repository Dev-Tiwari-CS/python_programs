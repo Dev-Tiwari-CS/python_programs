{
 "cells": [
  {
   "cell_type": "code",
   "execution_count": 5,
   "metadata": {},
   "outputs": [
    {
     "name": "stdout",
     "output_type": "stream",
     "text": [
      "doctor\n"
     ]
    }
   ],
   "source": [
    "b=\"doctor\"\n",
    "print(b)"
   ]
  },
  {
   "cell_type": "code",
   "execution_count": 8,
   "metadata": {},
   "outputs": [
    {
     "name": "stdout",
     "output_type": "stream",
     "text": [
      "supreme python clases \n"
     ]
    }
   ],
   "source": [
    "a=('supreme python clases ')\n",
    "# //python recommned single code//\n",
    "print(a)\n",
    "b=\"supreme's python clases's \"\n",
    "print(b)\n",
    "\n",
    "\n"
   ]
  },
  {
   "cell_type": "code",
   "execution_count": 12,
   "metadata": {},
   "outputs": [
    {
     "name": "stdout",
     "output_type": "stream",
     "text": [
      "MP's capital is \"bhopal\" \n"
     ]
    }
   ],
   "source": [
    "a=\"\"\"MP's capital is \"bhopal\" \"\"\"\n",
    "print(a)\n",
    "# what is pep8` it basicly a document that suggest how tp write  (python inheanccement praposal )\n",
    "# string is non mutable"
   ]
  },
  {
   "cell_type": "code",
   "execution_count": 13,
   "metadata": {},
   "outputs": [
    {
     "ename": "TypeError",
     "evalue": "'str' object does not support item assignment",
     "output_type": "error",
     "traceback": [
      "\u001b[1;31m---------------------------------------------------------------------------\u001b[0m",
      "\u001b[1;31mTypeError\u001b[0m                                 Traceback (most recent call last)",
      "Cell \u001b[1;32mIn[13], line 2\u001b[0m\n\u001b[0;32m      1\u001b[0m veriable\u001b[38;5;241m=\u001b[39m\u001b[38;5;124m\"\u001b[39m\u001b[38;5;124msupreme solution\u001b[39m\u001b[38;5;124m\"\u001b[39m\n\u001b[1;32m----> 2\u001b[0m \u001b[43mveriable\u001b[49m\u001b[43m[\u001b[49m\u001b[38;5;241;43m3\u001b[39;49m\u001b[43m]\u001b[49m\u001b[38;5;241m=\u001b[39m\u001b[38;5;124m\"\u001b[39m\u001b[38;5;124md\u001b[39m\u001b[38;5;124m\"\u001b[39m\n\u001b[0;32m      3\u001b[0m \u001b[38;5;28mprint\u001b[39m(veriable)\n",
      "\u001b[1;31mTypeError\u001b[0m: 'str' object does not support item assignment"
     ]
    }
   ],
   "source": [
    "veriable=\"supreme solution\"\n",
    "veriable[3]=\"d\"\n",
    "print(veriable)\n"
   ]
  },
  {
   "cell_type": "code",
   "execution_count": 15,
   "metadata": {},
   "outputs": [
    {
     "name": "stdout",
     "output_type": "stream",
     "text": [
      "140731479443288\n",
      "140731479443288\n"
     ]
    }
   ],
   "source": [
    "a=110\n",
    "b=110\n",
    "print(id(a))\n",
    "print(id(b))\n",
    "\n"
   ]
  },
  {
   "cell_type": "code",
   "execution_count": 1,
   "metadata": {},
   "outputs": [
    {
     "name": "stdout",
     "output_type": "stream",
     "text": [
      "मुझे पायथन आती है।\n"
     ]
    }
   ],
   "source": [
    "print(\"मुझे पायथन आती है।\")\n"
   ]
  },
  {
   "cell_type": "code",
   "execution_count": 2,
   "metadata": {},
   "outputs": [
    {
     "name": "stdout",
     "output_type": "stream",
     "text": [
      "我会使用 Python。\n"
     ]
    }
   ],
   "source": [
    "print(\"我会使用 Python。\")"
   ]
  },
  {
   "cell_type": "code",
   "execution_count": 9,
   "metadata": {},
   "outputs": [
    {
     "name": "stdout",
     "output_type": "stream",
     "text": [
      "False\n"
     ]
    }
   ],
   "source": [
    "print(\"india\">\"indore\")"
   ]
  },
  {
   "cell_type": "code",
   "execution_count": 23,
   "metadata": {},
   "outputs": [
    {
     "name": "stdout",
     "output_type": "stream",
     "text": [
      "supremesoluton\n",
      "Supreme\n"
     ]
    },
    {
     "data": {
      "text/plain": [
       "1796674915904"
      ]
     },
     "execution_count": 23,
     "metadata": {},
     "output_type": "execute_result"
    }
   ],
   "source": [
    "a=\"supreme\"\n",
    "b=\"soluton\"\n",
    "print(a+b)\n",
    "print(a.capitalize())\n",
    "len(a)\n",
    "id(a)"
   ]
  },
  {
   "cell_type": "code",
   "execution_count": 2,
   "metadata": {},
   "outputs": [
    {
     "name": "stdout",
     "output_type": "stream",
     "text": [
      "Raju\n",
      "farhan\n",
      "Machine\n",
      "Learning\n"
     ]
    }
   ],
   "source": [
    "mystring=\"RajufarhanMachineLearning\"\n",
    "a=mystring[0:4]\n",
    "b=mystring[4:10]\n",
    "c=mystring[10:17]\n",
    "d=mystring[17:25]\n",
    "print(a)\n",
    "print(b)\n",
    "print(c)\n",
    "print(d)\n",
    "\n"
   ]
  },
  {
   "cell_type": "code",
   "execution_count": 20,
   "metadata": {},
   "outputs": [
    {
     "name": "stdout",
     "output_type": "stream",
     "text": [
      "\n"
     ]
    }
   ],
   "source": [
    "mystring=\"RajufarhanMachineLearning\"\n",
    "a=mystring[-8:1]\n",
    "# print(mystring[1])\n",
    "print(a)"
   ]
  },
  {
   "cell_type": "code",
   "execution_count": 27,
   "metadata": {},
   "outputs": [
    {
     "name": "stdout",
     "output_type": "stream",
     "text": [
      "rurnc\n"
     ]
    }
   ],
   "source": [
    "mystring=\"rajufarhanmachinelearning\"\n",
    "# a=mystring[0:4]\n",
    "# b=mystring[4:10]\n",
    "# c=mystring[10:17]\n",
    "# d=mystring[17:25]\n",
    "# print(a)\n",
    "# print(b)\n",
    "# print(c)\n",
    "# print(d)\n",
    "print(mystring[0:14:3])"
   ]
  },
  {
   "cell_type": "code",
   "execution_count": 28,
   "metadata": {},
   "outputs": [
    {
     "name": "stdout",
     "output_type": "stream",
     "text": [
      "rurnc\n"
     ]
    }
   ],
   "source": [
    "mystring=\"rajufarhanmachinelearning\"\n",
    "print(mystring[0:14:3])"
   ]
  },
  {
   "cell_type": "code",
   "execution_count": 30,
   "metadata": {},
   "outputs": [
    {
     "name": "stdout",
     "output_type": "stream",
     "text": [
      "Dataanylatics\n",
      "Dataminig\n",
      "Datascienceis fantastic\n",
      "Dataylaticsisverypopular\n"
     ]
    }
   ],
   "source": [
    "str='Datascienceisverypopular'\n",
    "print(str[0:4]+\"anylatics\")\n",
    "print(str[0:4]+\"minig\")\n",
    "print(str[0:11]+\"is fantastic\")\n",
    "print(str[0:4]+\"ylatics\"+str[11:13]+str[13:17] +str[17:24])"
   ]
  },
  {
   "cell_type": "code",
   "execution_count": 31,
   "metadata": {},
   "outputs": [
    {
     "name": "stdout",
     "output_type": "stream",
     "text": [
      "Dataanalyticsisverypopular\n",
      "Databaseisverypopular\n",
      "Dataengineeringisverypopular\n"
     ]
    }
   ],
   "source": [
    "mystring=\"Datascienceisverypopular\"\n",
    "a=mystring[0:4]\n",
    "b=mystring[11:24]\n",
    "print(a+\"analytics\"+b)\n",
    "print(a+\"base\"+b)\n",
    "print(a+\"engineering\"+b)\n"
   ]
  },
  {
   "cell_type": "code",
   "execution_count": 33,
   "metadata": {},
   "outputs": [
    {
     "name": "stdout",
     "output_type": "stream",
     "text": [
      "ypopul\n"
     ]
    }
   ],
   "source": [
    "mystring=\"Datascienceisverypopular\"\n",
    "a=mystring[-7:-1]\n",
    "print(a)"
   ]
  },
  {
   "cell_type": "code",
   "execution_count": 3,
   "metadata": {},
   "outputs": [
    {
     "name": "stdout",
     "output_type": "stream",
     "text": [
      "11\n"
     ]
    }
   ],
   "source": [
    "# inpicit type conversion\n",
    "a=10\n",
    "b='True'\n",
    "c=(a+b)\n",
    "print(c)"
   ]
  },
  {
   "cell_type": "code",
   "execution_count": 22,
   "metadata": {},
   "outputs": [
    {
     "data": {
      "text/plain": [
       "str"
      ]
     },
     "execution_count": 22,
     "metadata": {},
     "output_type": "execute_result"
    }
   ],
   "source": [
    "a=(str(0b101))\n",
    "type(a)"
   ]
  }
 ],
 "metadata": {
  "kernelspec": {
   "display_name": "Python 3",
   "language": "python",
   "name": "python3"
  },
  "language_info": {
   "codemirror_mode": {
    "name": "ipython",
    "version": 3
   },
   "file_extension": ".py",
   "mimetype": "text/x-python",
   "name": "python",
   "nbconvert_exporter": "python",
   "pygments_lexer": "ipython3",
   "version": "3.12.1"
  }
 },
 "nbformat": 4,
 "nbformat_minor": 2
}
